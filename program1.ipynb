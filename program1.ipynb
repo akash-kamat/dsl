{
  "metadata": {
    "kernelspec": {
      "name": "python",
      "display_name": "Python (Pyodide)",
      "language": "python"
    },
    "language_info": {
      "codemirror_mode": {
        "name": "python",
        "version": 3
      },
      "file_extension": ".py",
      "mimetype": "text/x-python",
      "name": "python",
      "nbconvert_exporter": "python",
      "pygments_lexer": "ipython3",
      "version": "3.8"
    }
  },
  "nbformat_minor": 5,
  "nbformat": 4,
  "cells": [
    {
      "id": "6d6c4db3-320c-4c10-8c03-2f8b9fcdf899",
      "cell_type": "code",
      "source": "class Employee:\n    def __init__(self, name, salary):\n        self.__name = name \n        self.__salary = salary \n    def get_name(self):\n        return self.__name\n    def set_name(self, name):\n        self.__name = name\n    def get_salary(self):\n        return self.__salary\n    def set_salary(self, salary):\n        if salary >= 0:\n            self.__salary = salary\n        else:\n            print(\"Invalid salary\")\n    def __add__(self, other):\n        return self.__salary + other.__salary\n\nclass Manager(Employee):\n    def __init__(self, name, salary, department):\n        super().__init__(name, salary)\n        self.department = department \n    def display_info(self, show_department=True):\n        print(\"Name:\", self.get_name())\n        print(\"Salary:\", self.get_salary())\n        if show_department:\n            print(\"Department:\", self.department)\n\ndef main():\n     emp1 = Employee(\"Alice\", 50000)\n     emp2 = Employee(\"Bob\", 60000)\n     print(\"Initial salary of emp1:\", emp1.get_salary())\n     emp1.set_salary(55000)\n     print(\"Updated salary of emp1:\", emp1.get_salary())\n     total_salary = emp1 + emp2\n     print(\"Total salary of emp1 and emp2:\", total_salary)\n     mgr = Manager(\"Charlie\", 80000, \"IT\")\n     print(\"\\nManager Info:\")\n     mgr.display_info()\n     print(\"\\nManager Info (without department):\")\n     mgr.display_info(show_department=False)\nif __name__ == \"__main__\":\n     main() \n",
      "metadata": {
        "trusted": true
      },
      "outputs": [
        {
          "name": "stdout",
          "output_type": "stream",
          "text": "Initial salary of emp1: 50000\nUpdated salary of emp1: 55000\nTotal salary of emp1 and emp2: 115000\n\nManager Info:\nName: Charlie\nSalary: 80000\nDepartment: IT\n\nManager Info (without department):\nName: Charlie\nSalary: 80000\n"
        }
      ],
      "execution_count": 4
    },
    {
      "id": "8bf64822-00c3-410e-bd44-26789b3368a3",
      "cell_type": "code",
      "source": "",
      "metadata": {
        "trusted": true
      },
      "outputs": [],
      "execution_count": null
    }
  ]
}
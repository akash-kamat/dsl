{
  "metadata": {
    "kernelspec": {
      "name": "python",
      "display_name": "Python (Pyodide)",
      "language": "python"
    },
    "language_info": {
      "codemirror_mode": {
        "name": "python",
        "version": 3
      },
      "file_extension": ".py",
      "mimetype": "text/x-python",
      "name": "python",
      "nbconvert_exporter": "python",
      "pygments_lexer": "ipython3",
      "version": "3.8"
    }
  },
  "nbformat_minor": 5,
  "nbformat": 4,
  "cells": [
    {
      "id": "07e8e256-a241-4849-8d1e-ff8aea75ee4f",
      "cell_type": "code",
      "source": "import numpy as np\nimport seaborn as sns\nimport matplotlib.pyplot as plt\nimport pandas as pd\n\n# Generate sample data using NumPy\nnp.random.seed(42)\nx = np.linspace(0, 10, 100)\ny = np.sin(x)\n\ndata = {\n    \"Category\": np.random.choice(['A', 'B', 'C'], 100),\n    \"Value\": np.random.normal(loc=50, scale=15, size=100),\n    \"Score\": np.random.rand(100) * 100\n}\ndf = pd.DataFrame(data)",
      "metadata": {
        "trusted": true
      },
      "outputs": [],
      "execution_count": null
    },
    {
      "id": "9eb0350a-967f-4f36-ae21-793d244ab7dc",
      "cell_type": "code",
      "source": "# Line plot\nplt.figure(figsize=(6, 4))\nsns.lineplot(x=x, y=y)\nplt.title(\"Line Plot of sin(x)\")\nplt.xlabel(\"x\")\nplt.ylabel(\"sin(x)\")\nplt.grid(True)\nplt.show()",
      "metadata": {
        "trusted": true
      },
      "outputs": [],
      "execution_count": null
    },
    {
      "id": "3c73c15b-5639-4d2c-9806-40481389f781",
      "cell_type": "code",
      "source": "# Bar plot\nplt.figure(figsize=(6, 4))\nsns.barplot(x='Category', y='Value', data=df)\nplt.title(\"Bar Plot of Value by Category\")\nplt.show()",
      "metadata": {
        "trusted": true
      },
      "outputs": [],
      "execution_count": null
    },
    {
      "id": "076caa0f-5b38-4216-acdd-9b06b52a7f7d",
      "cell_type": "code",
      "source": "# Histogram\nplt.figure(figsize=(6, 4))\nsns.histplot(df['Value'], kde=True, bins=15)\nplt.title(\"Histogram of Value\")\nplt.show()",
      "metadata": {
        "trusted": true
      },
      "outputs": [],
      "execution_count": null
    },
    {
      "id": "3b8fc76a-512f-406d-8e6f-dd9b57a6ee02",
      "cell_type": "code",
      "source": "# Box plot\nplt.figure(figsize=(6, 4))\nsns.boxplot(x='Category', y='Value', data=df)\nplt.title(\"Box Plot of Value by Category\")\nplt.show()",
      "metadata": {
        "trusted": true
      },
      "outputs": [],
      "execution_count": null
    },
    {
      "id": "d412b816-fbb1-4d70-9d00-4382395400ec",
      "cell_type": "code",
      "source": "# Scatter plot\nplt.figure(figsize=(6, 4))\nsns.scatterplot(x='Value', y='Score', hue='Category', data=df)\nplt.title(\"Scatter Plot of Score vs Value\")\nplt.show()",
      "metadata": {
        "trusted": true
      },
      "outputs": [],
      "execution_count": null
    },
    {
      "id": "1756f774-5588-4c14-b3e9-89db219c58f8",
      "cell_type": "code",
      "source": "# Heatmap (correlation matrix)\nplt.figure(figsize=(6, 4))\ncorr = df[['Value', 'Score']].corr()\nsns.heatmap(corr, annot=True, cmap='coolwarm')\nplt.title(\"Heatmap of Correlation Matrix\")\nplt.show()",
      "metadata": {
        "trusted": true
      },
      "outputs": [
        {
          "ename": "<class 'ModuleNotFoundError'>",
          "evalue": "No module named 'seaborn'",
          "traceback": [
            "\u001b[0;31m---------------------------------------------------------------------------\u001b[0m",
            "\u001b[0;31mModuleNotFoundError\u001b[0m                       Traceback (most recent call last)",
            "Cell \u001b[0;32mIn[1], line 2\u001b[0m\n\u001b[1;32m      1\u001b[0m \u001b[38;5;28;01mimport\u001b[39;00m \u001b[38;5;21;01mnumpy\u001b[39;00m \u001b[38;5;28;01mas\u001b[39;00m \u001b[38;5;21;01mnp\u001b[39;00m\n\u001b[0;32m----> 2\u001b[0m \u001b[38;5;28;01mimport\u001b[39;00m \u001b[38;5;21;01mseaborn\u001b[39;00m \u001b[38;5;28;01mas\u001b[39;00m \u001b[38;5;21;01msns\u001b[39;00m\n\u001b[1;32m      3\u001b[0m \u001b[38;5;28;01mimport\u001b[39;00m \u001b[38;5;21;01mmatplotlib\u001b[39;00m\u001b[38;5;21;01m.\u001b[39;00m\u001b[38;5;21;01mpyplot\u001b[39;00m \u001b[38;5;28;01mas\u001b[39;00m \u001b[38;5;21;01mplt\u001b[39;00m\n\u001b[1;32m      4\u001b[0m \u001b[38;5;28;01mimport\u001b[39;00m \u001b[38;5;21;01mpandas\u001b[39;00m \u001b[38;5;28;01mas\u001b[39;00m \u001b[38;5;21;01mpd\u001b[39;00m\n",
            "\u001b[0;31mModuleNotFoundError\u001b[0m: No module named 'seaborn'"
          ],
          "output_type": "error"
        }
      ],
      "execution_count": null
    },
    {
      "id": "b70e5200-95a6-44a4-8c87-11f74531b862",
      "cell_type": "code",
      "source": "",
      "metadata": {
        "trusted": true
      },
      "outputs": [],
      "execution_count": null
    }
  ]
}